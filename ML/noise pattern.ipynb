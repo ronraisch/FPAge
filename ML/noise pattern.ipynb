{
 "cells": [
  {
   "metadata": {
    "ExecuteTime": {
     "end_time": "2024-09-16T07:03:23.261189Z",
     "start_time": "2024-09-16T07:03:23.255695Z"
    }
   },
   "cell_type": "code",
   "source": [
    "from ML.preprocess.feature_creation.main import *\n",
    "import matplotlib.pyplot as plt\n",
    "import os"
   ],
   "id": "cd1c0ac355a192d8",
   "outputs": [],
   "execution_count": 1
  },
  {
   "metadata": {
    "ExecuteTime": {
     "end_time": "2024-09-16T07:03:24.287055Z",
     "start_time": "2024-09-16T07:03:24.282606Z"
    }
   },
   "cell_type": "code",
   "source": [
    "# change the working directory to the root of the project\n",
    "if os.path.basename(os.getcwd()) == 'ML':\n",
    "    os.chdir('..')\n",
    "assert os.path.basename(os.getcwd()) == 'FPAge', 'The working directory should be the root of the project'"
   ],
   "id": "1c7ac5acc561f5eb",
   "outputs": [],
   "execution_count": 3
  },
  {
   "metadata": {
    "ExecuteTime": {
     "end_time": "2024-09-16T07:03:26.965794Z",
     "start_time": "2024-09-16T07:03:26.860798Z"
    }
   },
   "cell_type": "code",
   "source": [
    "noise_spectrum_list = load_noise_spectrums()\n",
    "norm_noise_spectrum_df = preprocess_noise_spectrums(noise_spectrum_list)\n",
    "mean_noise_spectrum = get_mean_noise_spectrum(norm_noise_spectrum_df)"
   ],
   "id": "969c675002562a0d",
   "outputs": [],
   "execution_count": 6
  },
  {
   "metadata": {
    "ExecuteTime": {
     "end_time": "2024-09-16T07:03:27.524153Z",
     "start_time": "2024-09-16T07:03:27.515152Z"
    }
   },
   "cell_type": "code",
   "source": "noise_spectrum_list",
   "id": "645437c8c19f106b",
   "outputs": [
    {
     "data": {
      "text/plain": [
       "[M/z\n",
       " 100.0271    24.34\n",
       " 100.0647    79.06\n",
       " 100.0747    32.83\n",
       " 100.1128    48.20\n",
       " 100.1498    20.05\n",
       "             ...  \n",
       " 698.4653     5.80\n",
       " 698.7687     1.74\n",
       " 699.2629     7.35\n",
       " 699.4104     6.78\n",
       " 699.4636     6.40\n",
       " Name: data/ML/noise_measurements/2_powder_no_clean.csv, Length: 3000, dtype: float64,\n",
       " M/z\n",
       " 100.0266    24.73\n",
       " 100.0720    51.50\n",
       " 100.1132    47.79\n",
       " 100.1502    16.57\n",
       " 100.2750    18.64\n",
       "             ...  \n",
       " 698.7657     1.52\n",
       " 699.2275    10.67\n",
       " 699.2634     8.54\n",
       " 699.4006    11.40\n",
       " 699.4621     4.32\n",
       " Name: data/ML/noise_measurements/3_powder_no_clean.csv, Length: 3000, dtype: float64,\n",
       " M/z\n",
       " 100.1132    61.04\n",
       " 100.1490    22.78\n",
       " 100.2690    22.68\n",
       " 100.4793    18.91\n",
       " 100.6103    15.72\n",
       "             ...  \n",
       " 699.1989    17.70\n",
       " 699.2646    10.74\n",
       " 699.4046     9.14\n",
       " 699.4596     8.00\n",
       " 699.5724     1.50\n",
       " Name: data/ML/noise_measurements/1_powder_no_clean.csv, Length: 3000, dtype: float64,\n",
       " M/z\n",
       " 100.0271    39.33\n",
       " 100.0724    59.99\n",
       " 100.1134    38.52\n",
       " 100.1500    26.12\n",
       " 100.2695    21.19\n",
       "             ...  \n",
       " 699.3024    12.98\n",
       " 699.4157     9.88\n",
       " 699.4618     5.74\n",
       " 699.5717     2.47\n",
       " 699.7742     3.24\n",
       " Name: data/ML/noise_measurements/5_powder_no_clean.csv, Length: 3000, dtype: float64,\n",
       " M/z\n",
       " 100.0266    34.44\n",
       " 100.0717    73.08\n",
       " 100.1130    54.37\n",
       " 100.1498    26.39\n",
       " 100.1922    17.33\n",
       "             ...  \n",
       " 698.5656     2.86\n",
       " 698.7665     4.08\n",
       " 699.2626    10.92\n",
       " 699.3095    11.76\n",
       " 699.4566     7.24\n",
       " Name: data/ML/noise_measurements/4_powder_no_clean.csv, Length: 3000, dtype: float64]"
      ]
     },
     "execution_count": 7,
     "metadata": {},
     "output_type": "execute_result"
    }
   ],
   "execution_count": 7
  },
  {
   "metadata": {
    "ExecuteTime": {
     "end_time": "2024-09-16T07:03:28.264863Z",
     "start_time": "2024-09-16T07:03:28.110773Z"
    }
   },
   "cell_type": "code",
   "source": [
    "plt.plot(mean_noise_spectrum*100)\n",
    "plt.title('Background Noise from Powder and Tape')\n",
    "plt.xlabel('M/z')\n",
    "plt.ylabel('Intensity(%)')"
   ],
   "id": "a5017e5e28f99ac1",
   "outputs": [
    {
     "data": {
      "text/plain": [
       "Text(0, 0.5, 'Intensity(%)')"
      ]
     },
     "execution_count": 8,
     "metadata": {},
     "output_type": "execute_result"
    },
    {
     "data": {
      "text/plain": [
       "<Figure size 640x480 with 1 Axes>"
      ],
      "image/png": "[encoded data removed]"
     },
     "metadata": {},
     "output_type": "display_data"
    }
   ],
   "execution_count": 8
  },
  {
   "metadata": {
    "ExecuteTime": {
     "end_time": "2024-09-16T06:59:04.246553Z",
     "start_time": "2024-09-16T06:59:04.244810Z"
    }
   },
   "cell_type": "code",
   "source": "",
   "id": "8b571f994848243c",
   "outputs": [],
   "execution_count": 3
  },
  {
   "metadata": {},
   "cell_type": "code",
   "outputs": [],
   "execution_count": null,
   "source": "",
   "id": "46d3916328e0469b"
  }
 ],
 "metadata": {
  "kernelspec": {
   "display_name": "Python 3",
   "language": "python",
   "name": "python3"
  },
  "language_info": {
   "codemirror_mode": {
    "name": "ipython",
    "version": 2
   },
   "file_extension": ".py",
   "mimetype": "text/x-python",
   "name": "python",
   "nbconvert_exporter": "python",
   "pygments_lexer": "ipython2",
   "version": "2.7.6"
  }
 },
 "nbformat": 4,
 "nbformat_minor": 5
}
